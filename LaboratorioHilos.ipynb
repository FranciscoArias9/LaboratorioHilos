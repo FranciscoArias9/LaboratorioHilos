{
  "nbformat": 4,
  "nbformat_minor": 0,
  "metadata": {
    "colab": {
      "provenance": [],
      "authorship_tag": "ABX9TyOpmdS/m9wPyyQ5uaOADoko",
      "include_colab_link": true
    },
    "kernelspec": {
      "name": "python3",
      "display_name": "Python 3"
    },
    "language_info": {
      "name": "python"
    }
  },
  "cells": [
    {
      "cell_type": "markdown",
      "metadata": {
        "id": "view-in-github",
        "colab_type": "text"
      },
      "source": [
        "<a href=\"https://colab.research.google.com/github/FranciscoArias9/LaboratorioHilos/blob/main/LaboratorioHilos.ipynb\" target=\"_parent\"><img src=\"https://colab.research.google.com/assets/colab-badge.svg\" alt=\"Open In Colab\"/></a>"
      ]
    },
    {
      "cell_type": "code",
      "execution_count": null,
      "metadata": {
        "id": "yjk4uy-ue_4E"
      },
      "outputs": [],
      "source": [
        "import threading\n",
        "import random\n",
        "import time"
      ]
    },
    {
      "cell_type": "code",
      "source": [
        "def ordena_subvector(subvector, hilo):\n",
        "  tiempo_inicio = time.time()\n",
        "  subvector.sort()\n",
        "  print(subvector)\n",
        "  tiempo_fin = time.time()\n",
        "  tiempo_ejecucion = tiempo_fin - tiempo_inicio\n",
        "  print(f\"Hilo {hilo}: Subvector ordenado (Tiempo: {tiempo_ejecucion} segundos)\")"
      ],
      "metadata": {
        "id": "C4GOrTUrfQAz"
      },
      "execution_count": null,
      "outputs": []
    },
    {
      "cell_type": "code",
      "source": [
        "def dividir_vector(vector, num_hilos):\n",
        "  longitud_subvector = len(vector) // num_hilos\n",
        "  subvectores = [vector[i:i+longitud_subvector] for i in range(0, len(vector),longitud_subvector)]\n",
        "  return subvectores"
      ],
      "metadata": {
        "id": "QzGGc2TOhRV4"
      },
      "execution_count": null,
      "outputs": []
    },
    {
      "cell_type": "code",
      "source": [
        "def unir_vectores(subvectores):\n",
        "  vector_ordenado = [num for subvector in subvectores for num in subvector]\n",
        "  return vector_ordenado"
      ],
      "metadata": {
        "id": "9zbo5iLeh0jp"
      },
      "execution_count": null,
      "outputs": []
    },
    {
      "cell_type": "code",
      "source": [
        "def ordenar_vector(vector, num_hilos):\n",
        "  subvectores = dividir_vector(vector, num_hilos)\n",
        "  threads = []\n",
        "  tiempo_inicio = time.time()\n",
        "  for i, subvector in enumerate(subvectores):\n",
        "    thread = threading.Thread(target=ordena_subvector, args=(subvector, i))\n",
        "    thread.start()\n",
        "    threads.append(thread)\n",
        "  for thread in threads:\n",
        "    thread.join()\n",
        "  vector_ordenado = unir_vectores(subvectores)\n",
        "  vector_ordenado.sort()\n",
        "  tiempo_fin = time.time()\n",
        "  tiempo_ejecucion = tiempo_fin - tiempo_inicio\n",
        "  print(f\"Vector ordenado final: {vector_ordenado}\")\n",
        "  print(f\"Todos los hilos duran: {tiempo_ejecucion} segundos)\")\n"
      ],
      "metadata": {
        "id": "Ds1mUprBiMQR"
      },
      "execution_count": null,
      "outputs": []
    },
    {
      "cell_type": "code",
      "source": [
        "vector_grande = [random.randint(1, 100) for _ in range(100)]\n",
        "\n",
        "num_hilos = int(input(\"Ingrese la cantidad de hilos: \"))\n",
        "\n",
        "ordenar_vector(vector=vector_grande, num_hilos=num_hilos)"
      ],
      "metadata": {
        "colab": {
          "base_uri": "https://localhost:8080/"
        },
        "id": "3otPGvIcib8H",
        "outputId": "2e41f75c-ee44-4b0d-b898-651fb2a9c65d"
      },
      "execution_count": null,
      "outputs": [
        {
          "output_type": "stream",
          "name": "stdout",
          "text": [
            "Ingrese la cantidad de hilos: 50\n",
            "[23, 34]\n",
            "Hilo 0: Subvector ordenado (Tiempo: 0.00034308433532714844 segundos)\n",
            "[33, 90]\n",
            "Hilo 1: Subvector ordenado (Tiempo: 0.0010302066802978516 segundos)\n",
            "[3, 51]\n",
            "Hilo 2: Subvector ordenado (Tiempo: 0.00025773048400878906 segundos)\n",
            "[55, 96]\n",
            "Hilo 3: Subvector ordenado (Tiempo: 0.00016736984252929688 segundos)\n",
            "[32, 48]\n",
            "[19, 33]\n",
            "Hilo 5: Subvector ordenado (Tiempo: 0.0001437664031982422 segundos)\n",
            "Hilo 4: Subvector ordenado (Tiempo: 0.0008473396301269531 segundos)\n",
            "[10, 59]\n",
            "[61, 66]\n",
            "Hilo 7: Subvector ordenado (Tiempo: 0.0001366138458251953 segundos)\n",
            "Hilo 6: Subvector ordenado (Tiempo: 0.0007891654968261719 segundos)\n",
            "[13, 18]\n",
            "Hilo 8: Subvector ordenado (Tiempo: 0.00018596649169921875 segundos)\n",
            "[18, 49]\n",
            "[3, 87]\n",
            "Hilo 10: Subvector ordenado (Tiempo: 0.00020241737365722656 segundos)\n",
            "Hilo 9: Subvector ordenado (Tiempo: 0.0009310245513916016 segundos)\n",
            "[31, 65]\n",
            "[40, 70]\n",
            "Hilo 12: Subvector ordenado (Tiempo: 0.0001423358917236328 segundos)\n",
            "Hilo 11: Subvector ordenado (Tiempo: 0.0009334087371826172 segundos)\n",
            "[23, 59]\n",
            "Hilo 13: Subvector ordenado (Tiempo: 0.0002574920654296875 segundos)\n",
            "[13, 64]\n",
            "Hilo 14: Subvector ordenado (Tiempo: 0.0002923011779785156 segundos)\n",
            "[18, 75]\n",
            "Hilo 15: Subvector ordenado (Tiempo: 0.0008919239044189453 segundos)\n",
            "[25, 71]\n",
            "Hilo 16: Subvector ordenado (Tiempo: 0.000293731689453125 segundos)\n",
            "[64, 94]\n",
            "Hilo 17: Subvector ordenado (Tiempo: 0.000209808349609375 segundos)\n",
            "[26, 43]\n",
            "Hilo 18: Subvector ordenado (Tiempo: 0.00016427040100097656 segundos)\n",
            "[37, 87]\n",
            "Hilo 19: Subvector ordenado (Tiempo: 0.00015997886657714844 segundos)\n",
            "[83, 96]\n",
            "Hilo 20: Subvector ordenado (Tiempo: 0.0005590915679931641 segundos)\n",
            "[5, 65]\n",
            "Hilo 21: Subvector ordenado (Tiempo: 0.00015425682067871094 segundos)\n",
            "[60, 60]\n",
            "Hilo 22: Subvector ordenado (Tiempo: 0.000156402587890625 segundos)\n",
            "[90, 96]\n",
            "Hilo 23: Subvector ordenado (Tiempo: 0.00018668174743652344 segundos)\n",
            "[31, 58]\n",
            "Hilo 24: Subvector ordenado (Tiempo: 0.0002727508544921875 segundos)\n",
            "[26, 90]\n",
            "Hilo 25: Subvector ordenado (Tiempo: 0.0001323223114013672 segundos)\n",
            "[63, 84]\n",
            "[1, 96]\n",
            "Hilo 27: Subvector ordenado (Tiempo: 0.0001361370086669922 segundos)\n",
            "Hilo 26: Subvector ordenado (Tiempo: 0.0008304119110107422 segundos)\n",
            "[42, 88]\n",
            "Hilo 28: Subvector ordenado (Tiempo: 0.00015473365783691406 segundos)\n",
            "[50, 94]\n",
            "Hilo 29: Subvector ordenado (Tiempo: 0.00020122528076171875 segundos)\n",
            "[24, 74]\n",
            "Hilo 30: Subvector ordenado (Tiempo: 0.00015354156494140625 segundos)\n",
            "[9, 57]\n",
            "Hilo 31: Subvector ordenado (Tiempo: 0.000148773193359375 segundos)\n",
            "[54, 93]\n",
            "Hilo 32: Subvector ordenado (Tiempo: 0.0015256404876708984 segundos)\n",
            "[47, 83]\n",
            "Hilo 33: Subvector ordenado (Tiempo: 0.0002186298370361328 segundos)\n",
            "[8, 65]\n",
            "Hilo 34: Subvector ordenado (Tiempo: 0.0002071857452392578 segundos)\n",
            "[50, 78]\n",
            "Hilo 35: Subvector ordenado (Tiempo: 0.00014638900756835938 segundos)\n",
            "[32, 63]\n",
            "Hilo 36: Subvector ordenado (Tiempo: 0.0001704692840576172 segundos)\n",
            "[31, 35][9, 20]\n",
            "Hilo 38: Subvector ordenado (Tiempo: 0.00015044212341308594 segundos)\n",
            "\n",
            "Hilo 37: Subvector ordenado (Tiempo: 0.0005619525909423828 segundos)\n",
            "[2, 85]\n",
            "[21, 21]\n",
            "Hilo 40: Subvector ordenado (Tiempo: 0.00013971328735351562 segundos)\n",
            "Hilo 39: Subvector ordenado (Tiempo: 0.0008220672607421875 segundos)\n",
            "[36, 82]\n",
            "Hilo 41: Subvector ordenado (Tiempo: 0.0005517005920410156 segundos)\n",
            "[46, 77]\n",
            "Hilo 42: Subvector ordenado (Tiempo: 0.0001442432403564453 segundos)\n",
            "[4, 14]\n",
            "Hilo 43: Subvector ordenado (Tiempo: 0.0001442432403564453 segundos)\n",
            "[26, 65]\n",
            "Hilo 44: Subvector ordenado (Tiempo: 0.00020813941955566406 segundos)\n",
            "[21, 51][41, 78]\n",
            "Hilo 46: Subvector ordenado (Tiempo: 0.00015854835510253906 segundos)\n",
            "\n",
            "Hilo 45: Subvector ordenado (Tiempo: 0.0005581378936767578 segundos)\n",
            "[26, 27]\n",
            "Hilo 47: Subvector ordenado (Tiempo: 0.00023484230041503906 segundos)\n",
            "[6, 68][27, 73]\n",
            "Hilo 49: Subvector ordenado (Tiempo: 0.0001823902130126953 segundos)\n",
            "\n",
            "Hilo 48: Subvector ordenado (Tiempo: 0.002045154571533203 segundos)\n",
            "Vector ordenado final: [1, 2, 3, 3, 4, 5, 6, 8, 9, 9, 10, 13, 13, 14, 18, 18, 18, 19, 20, 21, 21, 21, 23, 23, 24, 25, 26, 26, 26, 26, 27, 27, 31, 31, 31, 32, 32, 33, 33, 34, 35, 36, 37, 40, 41, 42, 43, 46, 47, 48, 49, 50, 50, 51, 51, 54, 55, 57, 58, 59, 59, 60, 60, 61, 63, 63, 64, 64, 65, 65, 65, 65, 66, 68, 70, 71, 73, 74, 75, 77, 78, 78, 82, 83, 83, 84, 85, 87, 87, 88, 90, 90, 90, 93, 94, 94, 96, 96, 96, 96]\n",
            "Todos los hilos duran: 0.0735161304473877 segundos)\n"
          ]
        }
      ]
    }
  ]
}